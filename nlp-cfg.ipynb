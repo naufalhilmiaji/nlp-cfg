{
 "cells": [
  {
   "cell_type": "markdown",
   "metadata": {},
   "source": [
    "# Natural Language Processing - Context-Free Grammar (CFG)\n",
    "##### Dataset from Indonesian Treebank Corpus"
   ]
  },
  {
   "cell_type": "markdown",
   "metadata": {},
   "source": [
    "This program made by Naufal Hilmiaji to accomplish my task in Natural Language Processing"
   ]
  },
  {
   "cell_type": "code",
   "execution_count": null,
   "metadata": {
    "colab": {},
    "colab_type": "code",
    "id": "FItS98Ts8aIt"
   },
   "outputs": [],
   "source": [
    "import nltk\n",
    "from nltk import Tree\n",
    "import re\n",
    "from collections import Counter\n",
    "from nltk.grammar import CFG, Nonterminal\n",
    "from nltk.parse.chart import BottomUpChartParser"
   ]
  },
  {
   "cell_type": "code",
   "execution_count": null,
   "metadata": {
    "colab": {},
    "colab_type": "code",
    "id": "nx9iOHNeYNWH"
   },
   "outputs": [],
   "source": [
    "import urllib.request  # untuk baca dari url raw github\n",
    "\n",
    "dirty_corpus = []\n",
    "\n",
    "for line in urllib.request.urlopen(\"https://raw.githubusercontent.com/famrashel/idn-treebank/master/Indonesian_Treebank.bracket\"):\n",
    "    dirty_corpus.append(line.decode('utf-8')) #append to list dirty_corpus[]"
   ]
  },
  {
   "cell_type": "code",
   "execution_count": null,
   "metadata": {
    "colab": {
     "base_uri": "https://localhost:8080/",
     "height": 54
    },
    "colab_type": "code",
    "executionInfo": {
     "elapsed": 628,
     "status": "ok",
     "timestamp": 1585148472241,
     "user": {
      "displayName": "Naufal Hilmiaji",
      "photoUrl": "https://lh3.googleusercontent.com/a-/AOh14Gjm2E0Rx6hRJhPrdCok0nhRe550o1uIscryl5s6rQ=s64",
      "userId": "05696889419577969157"
     },
     "user_tz": -420
    },
    "id": "QmiI-EosfYXU",
    "outputId": "678e9562-3c78-435a-e760-5510f1e453bf"
   },
   "outputs": [],
   "source": [
    "cleaned_corpus = [] #untuk menampung corpus yang sudah diubah\n",
    "\n",
    "for x in range(200):\n",
    "    fixed = ''.join(dirty_corpus[x]) #ubah list dirty_corpus[] jadi string fixed\n",
    "    fixed = re.sub(r'\\(([^()]*)\\)', r'\\1', fixed) #regex untuk menghapus kurung\n",
    "    cleaned_corpus.append(fixed) #append string yg telah dihapus parentheses pada lexicon ke list cleaned_corpus[]\n",
    "print(cleaned_corpus)"
   ]
  },
  {
   "cell_type": "markdown",
   "metadata": {
    "colab_type": "text",
    "id": "F3C9YvypEcbn"
   },
   "source": [
    "## Extract Production Rules"
   ]
  },
  {
   "cell_type": "code",
   "execution_count": null,
   "metadata": {
    "colab": {
     "base_uri": "https://localhost:8080/",
     "height": 54
    },
    "colab_type": "code",
    "executionInfo": {
     "elapsed": 817,
     "status": "ok",
     "timestamp": 1585148474873,
     "user": {
      "displayName": "Naufal Hilmiaji",
      "photoUrl": "https://lh3.googleusercontent.com/a-/AOh14Gjm2E0Rx6hRJhPrdCok0nhRe550o1uIscryl5s6rQ=s64",
      "userId": "05696889419577969157"
     },
     "user_tz": -420
    },
    "id": "SGbiOyO3Jt_5",
    "outputId": "dea8ebe0-a6d9-490f-a4e1-902658c03487"
   },
   "outputs": [],
   "source": [
    "prod = []\n",
    "forLexicon = []\n",
    "\n",
    "for i in range(len(cleaned_corpus)):\n",
    "    t = Tree.fromstring(cleaned_corpus[i])\n",
    "    forLexicon.append(t)\n",
    "    prod.extend(t.productions())\n",
    "print(prod)"
   ]
  },
  {
   "cell_type": "markdown",
   "metadata": {
    "colab_type": "text",
    "id": "dyBb-RRmElTj"
   },
   "source": [
    "## Top-10 Most Common Rules"
   ]
  },
  {
   "cell_type": "code",
   "execution_count": null,
   "metadata": {
    "colab": {
     "base_uri": "https://localhost:8080/",
     "height": 54
    },
    "colab_type": "code",
    "executionInfo": {
     "elapsed": 845,
     "status": "ok",
     "timestamp": 1585148477462,
     "user": {
      "displayName": "Naufal Hilmiaji",
      "photoUrl": "https://lh3.googleusercontent.com/a-/AOh14Gjm2E0Rx6hRJhPrdCok0nhRe550o1uIscryl5s6rQ=s64",
      "userId": "05696889419577969157"
     },
     "user_tz": -420
    },
    "id": "EhIeCMPeiTV7",
    "outputId": "fd6109d6-4c41-491c-bcda-0d767c4a2343"
   },
   "outputs": [],
   "source": [
    "data_set = Counter(prod)\n",
    "print(data_set.most_common(10))"
   ]
  },
  {
   "cell_type": "markdown",
   "metadata": {
    "colab_type": "text",
    "id": "8tnht69aEqZ2"
   },
   "source": [
    "## Generate Grammar CFG"
   ]
  },
  {
   "cell_type": "code",
   "execution_count": null,
   "metadata": {
    "colab": {
     "base_uri": "https://localhost:8080/",
     "height": 1000
    },
    "colab_type": "code",
    "executionInfo": {
     "elapsed": 797,
     "status": "ok",
     "timestamp": 1585148479734,
     "user": {
      "displayName": "Naufal Hilmiaji",
      "photoUrl": "https://lh3.googleusercontent.com/a-/AOh14Gjm2E0Rx6hRJhPrdCok0nhRe550o1uIscryl5s6rQ=s64",
      "userId": "05696889419577969157"
     },
     "user_tz": -420
    },
    "id": "MsEpPds86FfX",
    "outputId": "d7acd6b1-1004-4184-f930-78577d2ec870"
   },
   "outputs": [],
   "source": [
    "prod = []\n",
    "for i in range(len(cleaned_corpus)):\n",
    "    t = Tree.fromstring(cleaned_corpus[i])\n",
    "    prod.extend(t.productions())\n",
    "grammar = CFG(Nonterminal('S'), prod)\n",
    "print(grammar)"
   ]
  },
  {
   "cell_type": "markdown",
   "metadata": {
    "colab_type": "text",
    "id": "ftyHYDUoEusn"
   },
   "source": [
    "## Parsing Example"
   ]
  },
  {
   "cell_type": "code",
   "execution_count": null,
   "metadata": {
    "colab": {
     "base_uri": "https://localhost:8080/",
     "height": 235
    },
    "colab_type": "code",
    "executionInfo": {
     "elapsed": 5328,
     "status": "ok",
     "timestamp": 1585148489133,
     "user": {
      "displayName": "Naufal Hilmiaji",
      "photoUrl": "https://lh3.googleusercontent.com/a-/AOh14Gjm2E0Rx6hRJhPrdCok0nhRe550o1uIscryl5s6rQ=s64",
      "userId": "05696889419577969157"
     },
     "user_tz": -420
    },
    "id": "Ik16fGEeE0VC",
    "outputId": "21fe2ced-dbbc-465c-cb4c-19eaa26930db"
   },
   "outputs": [],
   "source": [
    "#sentence = 'Binatang ini tidak bisa dibunuh karena masyarakat India menganggap mereka suci .'\n",
    "\n",
    "parser = BottomUpChartParser(grammar)\n",
    "sentence = 'Binatang ini tidak bisa dibunuh karena masyarakat India menganggap mereka suci .'.split()\n",
    "parsed = list(parser.parse(sentence))\n",
    "print(parsed[0])"
   ]
  },
  {
   "cell_type": "markdown",
   "metadata": {
    "colab_type": "text",
    "id": "-6ogDZ5_E1SW"
   },
   "source": [
    "## Top-50 Most Common Lexicons (10 poin)"
   ]
  },
  {
   "cell_type": "code",
   "execution_count": null,
   "metadata": {
    "colab": {
     "base_uri": "https://localhost:8080/",
     "height": 54
    },
    "colab_type": "code",
    "executionInfo": {
     "elapsed": 690,
     "status": "ok",
     "timestamp": 1585148491717,
     "user": {
      "displayName": "Naufal Hilmiaji",
      "photoUrl": "https://lh3.googleusercontent.com/a-/AOh14Gjm2E0Rx6hRJhPrdCok0nhRe550o1uIscryl5s6rQ=s64",
      "userId": "05696889419577969157"
     },
     "user_tz": -420
    },
    "id": "1_L9C4sME5J4",
    "outputId": "3dd5ac4b-fc31-470e-f051-1f36accf2866"
   },
   "outputs": [],
   "source": [
    "is_lexicon = []\n",
    "isnt_lexicon = []\n",
    "\n",
    "for i in range(len(prod)):\n",
    "    if prod[i].is_lexical() == True:\n",
    "        is_lexicon.append(prod[i])\n",
    "    else:\n",
    "        isnt_lexicon.append(prod[i])\n",
    "\n",
    "data_set = Counter(is_lexicon)\n",
    "print(data_set.most_common(50))"
   ]
  },
  {
   "cell_type": "markdown",
   "metadata": {
    "colab_type": "text",
    "id": "UqEx4GnCE6Q5"
   },
   "source": [
    "## Sentences and Parsing"
   ]
  },
  {
   "cell_type": "code",
   "execution_count": null,
   "metadata": {
    "colab": {
     "base_uri": "https://localhost:8080/",
     "height": 54
    },
    "colab_type": "code",
    "executionInfo": {
     "elapsed": 834,
     "status": "ok",
     "timestamp": 1585148493637,
     "user": {
      "displayName": "Naufal Hilmiaji",
      "photoUrl": "https://lh3.googleusercontent.com/a-/AOh14Gjm2E0Rx6hRJhPrdCok0nhRe550o1uIscryl5s6rQ=s64",
      "userId": "05696889419577969157"
     },
     "user_tz": -420
    },
    "id": "AzqbcoIrLvLe",
    "outputId": "28acd554-2064-4664-915f-cf6fe1a51d8a"
   },
   "outputs": [],
   "source": [
    "lexicons = [] #list seluruh lexicon\n",
    "\n",
    "for i in range(len(forLexicon)):\n",
    "    for j in forLexicon[i].subtrees(lambda x: x.height() == 2):\n",
    "        lexicons.append(j[0])\n",
    "    \n",
    "print(lexicons)"
   ]
  },
  {
   "cell_type": "code",
   "execution_count": null,
   "metadata": {
    "colab": {},
    "colab_type": "code",
    "id": "JuTzgFY2FDPg"
   },
   "outputs": [],
   "source": [
    "sent1 = 'Pemkot Delhi mengganggu warga Delhi dengan monyet .'\n",
    "sent2 = 'Bill Gates meraup kekayaan dari industri bangunan baru .'\n",
    "sent3 = 'Simon Clark , Presiden Amerika melakukan kejahatan di India .'\n",
    "sent4 = 'Zinedine Zidane mengaku pernah menjadi pemain sepak bola di Spanyol .'\n",
    "sent5 = 'Indonesia akan menjadi rumah bagi investor asing dari Cina .'"
   ]
  },
  {
   "cell_type": "code",
   "execution_count": null,
   "metadata": {
    "colab": {
     "base_uri": "https://localhost:8080/",
     "height": 134
    },
    "colab_type": "code",
    "executionInfo": {
     "elapsed": 4915,
     "status": "ok",
     "timestamp": 1585148500247,
     "user": {
      "displayName": "Naufal Hilmiaji",
      "photoUrl": "https://lh3.googleusercontent.com/a-/AOh14Gjm2E0Rx6hRJhPrdCok0nhRe550o1uIscryl5s6rQ=s64",
      "userId": "05696889419577969157"
     },
     "user_tz": -420
    },
    "id": "c5e75_aCL-Xf",
    "outputId": "a29229cd-1686-48cc-9d0d-d445e2436419"
   },
   "outputs": [],
   "source": [
    "# Sentence 1\n",
    "# Pemkot Delhi mengganggu warga Delhi dengan monyet .\n",
    "\n",
    "parser = BottomUpChartParser(grammar)\n",
    "sentence = sent1.split()\n",
    "parsed = list(parser.parse(sentence))\n",
    "print(parsed[0])"
   ]
  },
  {
   "cell_type": "code",
   "execution_count": null,
   "metadata": {
    "colab": {
     "base_uri": "https://localhost:8080/",
     "height": 185
    },
    "colab_type": "code",
    "executionInfo": {
     "elapsed": 7207,
     "status": "ok",
     "timestamp": 1585148519471,
     "user": {
      "displayName": "Naufal Hilmiaji",
      "photoUrl": "https://lh3.googleusercontent.com/a-/AOh14Gjm2E0Rx6hRJhPrdCok0nhRe550o1uIscryl5s6rQ=s64",
      "userId": "05696889419577969157"
     },
     "user_tz": -420
    },
    "id": "GIVA87pXL-p7",
    "outputId": "5f44b559-433e-46f2-ea19-56292b7d92f0"
   },
   "outputs": [],
   "source": [
    "# Sentence 2\n",
    "# Bill Gates meraup kekayaan dari industri bangunan baru .\n",
    "\n",
    "parser = BottomUpChartParser(grammar)\n",
    "sentence = sent2.split()\n",
    "parsed = list(parser.parse(sentence))\n",
    "print(parsed[0])"
   ]
  },
  {
   "cell_type": "code",
   "execution_count": null,
   "metadata": {
    "colab": {
     "base_uri": "https://localhost:8080/",
     "height": 218
    },
    "colab_type": "code",
    "executionInfo": {
     "elapsed": 5311,
     "status": "ok",
     "timestamp": 1585148509071,
     "user": {
      "displayName": "Naufal Hilmiaji",
      "photoUrl": "https://lh3.googleusercontent.com/a-/AOh14Gjm2E0Rx6hRJhPrdCok0nhRe550o1uIscryl5s6rQ=s64",
      "userId": "05696889419577969157"
     },
     "user_tz": -420
    },
    "id": "NG_QhWfNL-7T",
    "outputId": "2dcaefa9-b70c-41f9-d434-a1be86c53065"
   },
   "outputs": [],
   "source": [
    "# Sentence 3\n",
    "# Simon Clark , Presiden Amerika melakukan kejahatan di India .\n",
    "\n",
    "parser = BottomUpChartParser(grammar)\n",
    "sentence = sent3.split()\n",
    "parsed = list(parser.parse(sentence))\n",
    "print(parsed[0])"
   ]
  },
  {
   "cell_type": "code",
   "execution_count": null,
   "metadata": {
    "colab": {
     "base_uri": "https://localhost:8080/",
     "height": 235
    },
    "colab_type": "code",
    "executionInfo": {
     "elapsed": 3446,
     "status": "ok",
     "timestamp": 1585148525999,
     "user": {
      "displayName": "Naufal Hilmiaji",
      "photoUrl": "https://lh3.googleusercontent.com/a-/AOh14Gjm2E0Rx6hRJhPrdCok0nhRe550o1uIscryl5s6rQ=s64",
      "userId": "05696889419577969157"
     },
     "user_tz": -420
    },
    "id": "qgG8q3EPL_fN",
    "outputId": "37a5b762-e7ce-4a02-d1da-e7cc1187787d"
   },
   "outputs": [],
   "source": [
    "# Sentence 4\n",
    "# Zinedine Zidane mengaku pernah menjadi pemain sepak bola di Spanyol .\n",
    "\n",
    "parser = BottomUpChartParser(grammar)\n",
    "sentence = sent4.split()\n",
    "parsed = list(parser.parse(sentence))\n",
    "print(parsed[0])"
   ]
  },
  {
   "cell_type": "code",
   "execution_count": null,
   "metadata": {
    "colab": {
     "base_uri": "https://localhost:8080/",
     "height": 235
    },
    "colab_type": "code",
    "executionInfo": {
     "elapsed": 2959,
     "status": "ok",
     "timestamp": 1585148740809,
     "user": {
      "displayName": "Naufal Hilmiaji",
      "photoUrl": "https://lh3.googleusercontent.com/a-/AOh14Gjm2E0Rx6hRJhPrdCok0nhRe550o1uIscryl5s6rQ=s64",
      "userId": "05696889419577969157"
     },
     "user_tz": -420
    },
    "id": "02Q4docbL_3k",
    "outputId": "912806e8-23cf-43ae-cf7e-118635554289",
    "scrolled": false
   },
   "outputs": [],
   "source": [
    "# Sentence 5\n",
    "\n",
    "parser = BottomUpChartParser(grammar)\n",
    "sentence = sent5.split()\n",
    "parsed = list(parser.parse(sentence))\n",
    "print(parsed[0])"
   ]
  },
  {
   "cell_type": "markdown",
   "metadata": {},
   "source": [
    "This program made by Naufal Hilmiaji to accomplish my task in Natural Language Processing.\n",
    "You are allowed to clone or download. Please use wisely!"
   ]
  }
 ],
 "metadata": {
  "colab": {
   "collapsed_sections": [],
   "name": "Assignment Parsing CFG.ipynb",
   "provenance": [
    {
     "file_id": "1x8dkEKR2swSLq88tLQf-NqmAswJIB0LY",
     "timestamp": 1584679066740
    }
   ],
   "toc_visible": true
  },
  "kernelspec": {
   "display_name": "Python 3",
   "language": "python",
   "name": "python3"
  },
  "language_info": {
   "codemirror_mode": {
    "name": "ipython",
    "version": 3
   },
   "file_extension": ".py",
   "mimetype": "text/x-python",
   "name": "python",
   "nbconvert_exporter": "python",
   "pygments_lexer": "ipython3",
   "version": "3.7.4"
  }
 },
 "nbformat": 4,
 "nbformat_minor": 1
}
